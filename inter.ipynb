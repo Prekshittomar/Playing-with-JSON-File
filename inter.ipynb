{
 "cells": [
  {
   "cell_type": "code",
   "execution_count": 1,
   "id": "7a1511a6-6ed3-4c49-b25a-6a53172e832d",
   "metadata": {},
   "outputs": [],
   "source": [
    "import pandas as pd\n"
   ]
  },
  {
   "cell_type": "code",
   "execution_count": 2,
   "id": "e412476b-6fa5-48a5-8411-a1d391605e41",
   "metadata": {},
   "outputs": [],
   "source": [
    "import json\n",
    "\n",
    "# Open the JSON file and load it into a Python object (e.g., dictionary)\n",
    "with open('annotations.json', 'r') as file:\n",
    "    data = json.load(file)"
   ]
  },
  {
   "cell_type": "code",
   "execution_count": 40,
   "id": "1b06c459-0439-4244-9578-0bbdba9f0cc0",
   "metadata": {},
   "outputs": [
    {
     "data": {
      "text/plain": [
       "[{'name': 'Guyana',\n",
       "  'labels': 'Guyana',\n",
       "  'width': 0.15,\n",
       "  'colors': '#008B8B',\n",
       "  'bboxes': [{'y': 584, 'x': 171, 'w': 47, 'h': 7},\n",
       "   {'y': 583, 'x': 481, 'w': 47, 'h': 7},\n",
       "   {'y': 584, 'x': 791, 'w': 47, 'h': 6},\n",
       "   {'y': 581, 'x': 1101, 'w': 47, 'h': 9}],\n",
       "  'y': [87851000, 94098000, 84793000, 122345000],\n",
       "  'x': ['2005', '2006', '2007', '2008']},\n",
       " {'name': 'South Africa',\n",
       "  'labels': 'South Africa',\n",
       "  'width': 0.15,\n",
       "  'colors': '#00FA9A',\n",
       "  'bboxes': [{'y': 605, 'x': 217, 'w': 47, 'h': -15},\n",
       "   {'y': 594, 'x': 527, 'w': 47, 'h': -3},\n",
       "   {'y': 61, 'x': 837, 'w': 47, 'h': 530},\n",
       "   {'y': 818, 'x': 1148, 'w': 47, 'h': -228}],\n",
       "  'y': [-192683000.0, -44103000.0, 7023999000.0, -3020897000.0],\n",
       "  'x': ['2005', '2006', '2007', '2008']},\n",
       " {'name': 'Tanzania',\n",
       "  'labels': 'Tanzania',\n",
       "  'width': 0.15,\n",
       "  'colors': '#7FFFD4',\n",
       "  'bboxes': [{'y': 558, 'x': 264, 'w': 47, 'h': 33},\n",
       "   {'y': 550, 'x': 574, 'w': 47, 'h': 40},\n",
       "   {'y': 543, 'x': 884, 'w': 47, 'h': 47},\n",
       "   {'y': 553, 'x': 1194, 'w': 47, 'h': 38}],\n",
       "  'y': [435092000, 537113000, 629639000, 500951000],\n",
       "  'x': ['2005', '2006', '2007', '2008']},\n",
       " {'name': 'Vanuatu',\n",
       "  'labels': 'Vanuatu',\n",
       "  'width': 0.15,\n",
       "  'colors': '#D2691E',\n",
       "  'bboxes': [{'y': 591, 'x': 310, 'w': 47, 'h': 0},\n",
       "   {'y': 591, 'x': 620, 'w': 47, 'h': 0},\n",
       "   {'y': 590, 'x': 930, 'w': 47, 'h': 0},\n",
       "   {'y': 590, 'x': 1241, 'w': 47, 'h': 1}],\n",
       "  'y': [-1084000.0, -2154000.0, 1815000.0, 7608000.0],\n",
       "  'x': ['2005', '2006', '2007', '2008']}]"
      ]
     },
     "execution_count": 40,
     "metadata": {},
     "output_type": "execute_result"
    }
   ],
   "source": [
    "data[30000]['models']"
   ]
  },
  {
   "cell_type": "code",
   "execution_count": 60,
   "id": "169f0f7f-39ea-40c5-a3fa-28e426252178",
   "metadata": {},
   "outputs": [
    {
     "data": {
      "text/plain": [
       "0"
      ]
     },
     "execution_count": 60,
     "metadata": {},
     "output_type": "execute_result"
    }
   ],
   "source": [
    "data[0]['image_index']"
   ]
  },
  {
   "cell_type": "code",
   "execution_count": 61,
   "id": "84b99266-bd1d-41e8-b20e-8effe08ea875",
   "metadata": {},
   "outputs": [
    {
     "data": {
      "text/plain": [
       "'dot_line'"
      ]
     },
     "execution_count": 61,
     "metadata": {},
     "output_type": "execute_result"
    }
   ],
   "source": [
    "data[0]['type']"
   ]
  },
  {
   "cell_type": "code",
   "execution_count": 59,
   "id": "d382743e-9ec7-4d8f-9bc1-f72719f7f49c",
   "metadata": {},
   "outputs": [
    {
     "data": {
      "text/plain": [
       "['1997', '1998', '1999', '2000', '1997', '1998', '1999', '2000']"
      ]
     },
     "execution_count": 59,
     "metadata": {},
     "output_type": "execute_result"
    }
   ],
   "source": [
    "data[0]['general_figure_info']['x_axis']['major_labels']['values']"
   ]
  },
  {
   "cell_type": "code",
   "execution_count": 105,
   "id": "9e105aea-c998-4c36-939b-f4e58f81160f",
   "metadata": {},
   "outputs": [
    {
     "data": {
      "text/plain": [
       "'Employment to population ratio of Zimbabwe for age group between 15-24 years'"
      ]
     },
     "execution_count": 105,
     "metadata": {},
     "output_type": "execute_result"
    }
   ],
   "source": [
    "data[0]['general_figure_info']['title']['text']"
   ]
  },
  {
   "cell_type": "code",
   "execution_count": 68,
   "id": "ca5c79f4-4af5-4345-b8d3-b037e7d93859",
   "metadata": {},
   "outputs": [
    {
     "data": {
      "text/plain": [
       "['0', '10', '20', '30', '40', '50', '0', '10', '20', '30', '40', '50']"
      ]
     },
     "execution_count": 68,
     "metadata": {},
     "output_type": "execute_result"
    }
   ],
   "source": [
    "data[0]['general_figure_info']['y_axis']['major_labels']['values']"
   ]
  },
  {
   "cell_type": "code",
   "execution_count": 92,
   "id": "c5e9a770-5bca-44d5-9edb-710789769978",
   "metadata": {},
   "outputs": [
    {
     "data": {
      "text/plain": [
       "'Year'"
      ]
     },
     "execution_count": 92,
     "metadata": {},
     "output_type": "execute_result"
    }
   ],
   "source": [
    "data[0]['general_figure_info']['x_axis']['label']['text']"
   ]
  },
  {
   "cell_type": "code",
   "execution_count": 93,
   "id": "2753f321-beb3-4276-aefe-5b16547a8804",
   "metadata": {},
   "outputs": [
    {
     "data": {
      "text/plain": [
       "'Employment to population ratio(%)'"
      ]
     },
     "execution_count": 93,
     "metadata": {},
     "output_type": "execute_result"
    }
   ],
   "source": [
    "data[0]['general_figure_info']['y_axis']['label']['text']"
   ]
  },
  {
   "cell_type": "code",
   "execution_count": 95,
   "id": "5ef0f93e-46ba-4cae-afd7-83e9439dc833",
   "metadata": {},
   "outputs": [
    {
     "data": {
      "text/plain": [
       "'Female'"
      ]
     },
     "execution_count": 95,
     "metadata": {},
     "output_type": "execute_result"
    }
   ],
   "source": [
    "data[0]['models'][0]['name']"
   ]
  },
  {
   "cell_type": "code",
   "execution_count": 98,
   "id": "32c97949-6aa9-4fd9-bcbd-7a556e1c94e3",
   "metadata": {},
   "outputs": [],
   "source": [
    "a = data[0]['models'][0]['name']"
   ]
  },
  {
   "cell_type": "code",
   "execution_count": 99,
   "id": "39d8af43-6083-4933-943d-00f4fd834c67",
   "metadata": {},
   "outputs": [],
   "source": [
    "b = data[0]['models'][1]['name']"
   ]
  },
  {
   "cell_type": "code",
   "execution_count": 101,
   "id": "d1bd0c6e-e6d4-4a5e-a11c-8ccf1c2f08fc",
   "metadata": {},
   "outputs": [
    {
     "data": {
      "text/plain": [
       "['Female', 'Male']"
      ]
     },
     "execution_count": 101,
     "metadata": {},
     "output_type": "execute_result"
    }
   ],
   "source": [
    "lis = [a,b]\n",
    "lis"
   ]
  },
  {
   "cell_type": "code",
   "execution_count": 4,
   "id": "0daf211d-948e-4654-ac39-66df9ac99a04",
   "metadata": {},
   "outputs": [],
   "source": [
    "df = pd.read_json('annotations.json')"
   ]
  },
  {
   "cell_type": "code",
   "execution_count": 5,
   "id": "75b35834-de11-4001-90d8-b0682733ce27",
   "metadata": {},
   "outputs": [
    {
     "data": {
      "text/html": [
       "<div>\n",
       "<style scoped>\n",
       "    .dataframe tbody tr th:only-of-type {\n",
       "        vertical-align: middle;\n",
       "    }\n",
       "\n",
       "    .dataframe tbody tr th {\n",
       "        vertical-align: top;\n",
       "    }\n",
       "\n",
       "    .dataframe thead th {\n",
       "        text-align: right;\n",
       "    }\n",
       "</style>\n",
       "<table border=\"1\" class=\"dataframe\">\n",
       "  <thead>\n",
       "    <tr style=\"text-align: right;\">\n",
       "      <th></th>\n",
       "      <th>models</th>\n",
       "      <th>type</th>\n",
       "      <th>general_figure_info</th>\n",
       "      <th>image_index</th>\n",
       "    </tr>\n",
       "  </thead>\n",
       "  <tbody>\n",
       "    <tr>\n",
       "      <th>0</th>\n",
       "      <td>[{'name': 'Female', 'color': '#8B4513', 'label...</td>\n",
       "      <td>dot_line</td>\n",
       "      <td>{'title': {'text': 'Employment to population r...</td>\n",
       "      <td>0</td>\n",
       "    </tr>\n",
       "    <tr>\n",
       "      <th>1</th>\n",
       "      <td>[{'name': 'GDP', 'color': '#FFFF00', 'label': ...</td>\n",
       "      <td>dot_line</td>\n",
       "      <td>{'title': {'text': 'PPP conversion factor for ...</td>\n",
       "      <td>1</td>\n",
       "    </tr>\n",
       "    <tr>\n",
       "      <th>2</th>\n",
       "      <td>[{'name': 'Merchandise exports', 'color': '#90...</td>\n",
       "      <td>dot_line</td>\n",
       "      <td>{'title': {'text': 'Trade statistics of Switze...</td>\n",
       "      <td>2</td>\n",
       "    </tr>\n",
       "    <tr>\n",
       "      <th>3</th>\n",
       "      <td>[{'name': 'Primary education', 'color': '#BDB7...</td>\n",
       "      <td>dot_line</td>\n",
       "      <td>{'title': {'text': 'Number of teachers providi...</td>\n",
       "      <td>3</td>\n",
       "    </tr>\n",
       "    <tr>\n",
       "      <th>4</th>\n",
       "      <td>[{'name': 'Merchandise exports', 'color': '#8B...</td>\n",
       "      <td>dot_line</td>\n",
       "      <td>{'title': {'text': 'Trade statistics of Bahrai...</td>\n",
       "      <td>4</td>\n",
       "    </tr>\n",
       "  </tbody>\n",
       "</table>\n",
       "</div>"
      ],
      "text/plain": [
       "                                              models      type  \\\n",
       "0  [{'name': 'Female', 'color': '#8B4513', 'label...  dot_line   \n",
       "1  [{'name': 'GDP', 'color': '#FFFF00', 'label': ...  dot_line   \n",
       "2  [{'name': 'Merchandise exports', 'color': '#90...  dot_line   \n",
       "3  [{'name': 'Primary education', 'color': '#BDB7...  dot_line   \n",
       "4  [{'name': 'Merchandise exports', 'color': '#8B...  dot_line   \n",
       "\n",
       "                                 general_figure_info  image_index  \n",
       "0  {'title': {'text': 'Employment to population r...            0  \n",
       "1  {'title': {'text': 'PPP conversion factor for ...            1  \n",
       "2  {'title': {'text': 'Trade statistics of Switze...            2  \n",
       "3  {'title': {'text': 'Number of teachers providi...            3  \n",
       "4  {'title': {'text': 'Trade statistics of Bahrai...            4  "
      ]
     },
     "execution_count": 5,
     "metadata": {},
     "output_type": "execute_result"
    }
   ],
   "source": [
    "df.head()"
   ]
  },
  {
   "cell_type": "code",
   "execution_count": 30,
   "id": "88447e01-94fd-4b43-b299-708d325ab281",
   "metadata": {},
   "outputs": [
    {
     "data": {
      "text/plain": [
       "(33650, 4)"
      ]
     },
     "execution_count": 30,
     "metadata": {},
     "output_type": "execute_result"
    }
   ],
   "source": [
    "df.shape"
   ]
  },
  {
   "cell_type": "code",
   "execution_count": 37,
   "id": "b8c8b6ec-670b-4249-8adc-1d28ef854e1b",
   "metadata": {},
   "outputs": [
    {
     "data": {
      "text/html": [
       "<div>\n",
       "<style scoped>\n",
       "    .dataframe tbody tr th:only-of-type {\n",
       "        vertical-align: middle;\n",
       "    }\n",
       "\n",
       "    .dataframe tbody tr th {\n",
       "        vertical-align: top;\n",
       "    }\n",
       "\n",
       "    .dataframe thead th {\n",
       "        text-align: right;\n",
       "    }\n",
       "</style>\n",
       "<table border=\"1\" class=\"dataframe\">\n",
       "  <thead>\n",
       "    <tr style=\"text-align: right;\">\n",
       "      <th></th>\n",
       "      <th>models</th>\n",
       "      <th>type</th>\n",
       "      <th>general_figure_info</th>\n",
       "      <th>image_index</th>\n",
       "    </tr>\n",
       "  </thead>\n",
       "  <tbody>\n",
       "    <tr>\n",
       "      <th>33645</th>\n",
       "      <td>[{'name': 'New businesses', 'labels': 'New bus...</td>\n",
       "      <td>vbar_categorical</td>\n",
       "      <td>{'title': {'text': 'Number of new businesses r...</td>\n",
       "      <td>33645</td>\n",
       "    </tr>\n",
       "    <tr>\n",
       "      <th>33646</th>\n",
       "      <td>[{'name': 'Prevalence of undernourishment', 'l...</td>\n",
       "      <td>vbar_categorical</td>\n",
       "      <td>{'title': {'text': 'Prevalence of undernourish...</td>\n",
       "      <td>33646</td>\n",
       "    </tr>\n",
       "    <tr>\n",
       "      <th>33647</th>\n",
       "      <td>[{'name': 'Use of IMF credit (DOD', 'labels': ...</td>\n",
       "      <td>vbar_categorical</td>\n",
       "      <td>{'title': {'text': 'Use of IMF credit in 2014 ...</td>\n",
       "      <td>33647</td>\n",
       "    </tr>\n",
       "    <tr>\n",
       "      <th>33648</th>\n",
       "      <td>[{'name': 'Unemployed(female)', 'labels': 'Une...</td>\n",
       "      <td>vbar_categorical</td>\n",
       "      <td>{'y_axis': {'minor_ticks': {'values': [0, 0.4,...</td>\n",
       "      <td>33648</td>\n",
       "    </tr>\n",
       "    <tr>\n",
       "      <th>33649</th>\n",
       "      <td>[{'name': 'Burden of customs procedure', 'labe...</td>\n",
       "      <td>vbar_categorical</td>\n",
       "      <td>{'y_axis': {'minor_ticks': {'values': [0, 0.2,...</td>\n",
       "      <td>33649</td>\n",
       "    </tr>\n",
       "  </tbody>\n",
       "</table>\n",
       "</div>"
      ],
      "text/plain": [
       "                                                  models              type  \\\n",
       "33645  [{'name': 'New businesses', 'labels': 'New bus...  vbar_categorical   \n",
       "33646  [{'name': 'Prevalence of undernourishment', 'l...  vbar_categorical   \n",
       "33647  [{'name': 'Use of IMF credit (DOD', 'labels': ...  vbar_categorical   \n",
       "33648  [{'name': 'Unemployed(female)', 'labels': 'Une...  vbar_categorical   \n",
       "33649  [{'name': 'Burden of customs procedure', 'labe...  vbar_categorical   \n",
       "\n",
       "                                     general_figure_info  image_index  \n",
       "33645  {'title': {'text': 'Number of new businesses r...        33645  \n",
       "33646  {'title': {'text': 'Prevalence of undernourish...        33646  \n",
       "33647  {'title': {'text': 'Use of IMF credit in 2014 ...        33647  \n",
       "33648  {'y_axis': {'minor_ticks': {'values': [0, 0.4,...        33648  \n",
       "33649  {'y_axis': {'minor_ticks': {'values': [0, 0.2,...        33649  "
      ]
     },
     "execution_count": 37,
     "metadata": {},
     "output_type": "execute_result"
    }
   ],
   "source": [
    "df.tail()"
   ]
  },
  {
   "cell_type": "code",
   "execution_count": 103,
   "id": "7b99c236-95fc-4c99-807b-c953f0e5aea8",
   "metadata": {},
   "outputs": [],
   "source": [
    "image_index=[]\n",
    "type = []\n",
    "title=[]\n",
    "x_tick=[]\n",
    "y_tick=[]\n",
    "legend=[]\n",
    "x_label=[]\n",
    "y_label=[]\n",
    "\n",
    "i=0"
   ]
  },
  {
   "cell_type": "code",
   "execution_count": 106,
   "id": "95a62830-ab39-46c8-bac0-0bf775bc35b4",
   "metadata": {},
   "outputs": [],
   "source": [
    "for i in range(33650):\n",
    "    image_index.append(data[i]['image_index'])\n",
    "    type.append(data[i]['type'])\n",
    "    title.append(data[i]['general_figure_info']['title']['text'])\n",
    "    x_tick.append(data[i]['general_figure_info']['x_axis']['major_labels']['values'])\n",
    "    y_tick.append(data[i]['general_figure_info']['y_axis']['major_labels']['values'])\n",
    "    x_label.append(data[i]['general_figure_info']['x_axis']['label']['text'])\n",
    "    y_label.append(data[i]['general_figure_info']['y_axis']['label']['text'])"
   ]
  },
  {
   "cell_type": "code",
   "execution_count": 108,
   "id": "fb67244e-a036-4f60-a3ce-4f5213afdd63",
   "metadata": {},
   "outputs": [],
   "source": [
    "df = pd.DataFrame({\n",
    "    'image_index':image_index,\n",
    "    'type':type,\n",
    "    'title':title,\n",
    "    'x_tick':x_tick,\n",
    "    'y_tick':y_tick,\n",
    "    'x_label':x_label,\n",
    "    'y_label':y_label\n",
    "})"
   ]
  },
  {
   "cell_type": "code",
   "execution_count": 111,
   "id": "d6f28cea-499c-4d45-b596-c1537bc7c8b3",
   "metadata": {},
   "outputs": [
    {
     "data": {
      "text/html": [
       "<div>\n",
       "<style scoped>\n",
       "    .dataframe tbody tr th:only-of-type {\n",
       "        vertical-align: middle;\n",
       "    }\n",
       "\n",
       "    .dataframe tbody tr th {\n",
       "        vertical-align: top;\n",
       "    }\n",
       "\n",
       "    .dataframe thead th {\n",
       "        text-align: right;\n",
       "    }\n",
       "</style>\n",
       "<table border=\"1\" class=\"dataframe\">\n",
       "  <thead>\n",
       "    <tr style=\"text-align: right;\">\n",
       "      <th></th>\n",
       "      <th>image_index</th>\n",
       "      <th>type</th>\n",
       "      <th>title</th>\n",
       "      <th>x_tick</th>\n",
       "      <th>y_tick</th>\n",
       "      <th>x_label</th>\n",
       "      <th>y_label</th>\n",
       "    </tr>\n",
       "  </thead>\n",
       "  <tbody>\n",
       "    <tr>\n",
       "      <th>0</th>\n",
       "      <td>0</td>\n",
       "      <td>dot_line</td>\n",
       "      <td>Employment to population ratio of Zimbabwe for...</td>\n",
       "      <td>[1997, 1998, 1999, 2000, 1997, 1998, 1999, 2000]</td>\n",
       "      <td>[0, 10, 20, 30, 40, 50, 0, 10, 20, 30, 40, 50]</td>\n",
       "      <td>Year</td>\n",
       "      <td>Employment to population ratio(%)</td>\n",
       "    </tr>\n",
       "    <tr>\n",
       "      <th>1</th>\n",
       "      <td>1</td>\n",
       "      <td>dot_line</td>\n",
       "      <td>PPP conversion factor for GDP and private cons...</td>\n",
       "      <td>[2000, 2001, 2002, 2003, 2004, 2005, 2000, 200...</td>\n",
       "      <td>[0, 0.2, 0.4, 0.6, 0.8, 0, 0.2, 0.4, 0.6, 0.8]</td>\n",
       "      <td>Year</td>\n",
       "      <td>PPP conversion factor (LCU per international $)</td>\n",
       "    </tr>\n",
       "    <tr>\n",
       "      <th>2</th>\n",
       "      <td>2</td>\n",
       "      <td>dot_line</td>\n",
       "      <td>Trade statistics of Switzerland with developin...</td>\n",
       "      <td>[1973, 1974, 1975, 1976, 1977, 1973, 1974, 197...</td>\n",
       "      <td>[0, 1, 2, 3, 4, 0, 1, 2, 3, 4]</td>\n",
       "      <td>Year</td>\n",
       "      <td>Trade with economies of Latin America &amp; Caribb...</td>\n",
       "    </tr>\n",
       "    <tr>\n",
       "      <th>3</th>\n",
       "      <td>3</td>\n",
       "      <td>dot_line</td>\n",
       "      <td>Number of teachers providing primary vs second...</td>\n",
       "      <td>[1983, 1984, 1985, 1986, 1987, 1988, 1989, 198...</td>\n",
       "      <td>[0, 2000, 4000, 6000, 8000, 0, 2000, 4000, 600...</td>\n",
       "      <td>Year</td>\n",
       "      <td>Number of teachers</td>\n",
       "    </tr>\n",
       "    <tr>\n",
       "      <th>4</th>\n",
       "      <td>4</td>\n",
       "      <td>dot_line</td>\n",
       "      <td>Trade statistics of Bahrain with developing ec...</td>\n",
       "      <td>[2010, 2011, 2012, 2013, 2010, 2011, 2012, 2013]</td>\n",
       "      <td>[0, 0.5, 1, 1.5, 0, 0.5, 1, 1.5]</td>\n",
       "      <td>Year</td>\n",
       "      <td>Trade with economies of Middle East &amp; North Af...</td>\n",
       "    </tr>\n",
       "  </tbody>\n",
       "</table>\n",
       "</div>"
      ],
      "text/plain": [
       "   image_index      type                                              title  \\\n",
       "0            0  dot_line  Employment to population ratio of Zimbabwe for...   \n",
       "1            1  dot_line  PPP conversion factor for GDP and private cons...   \n",
       "2            2  dot_line  Trade statistics of Switzerland with developin...   \n",
       "3            3  dot_line  Number of teachers providing primary vs second...   \n",
       "4            4  dot_line  Trade statistics of Bahrain with developing ec...   \n",
       "\n",
       "                                              x_tick  \\\n",
       "0   [1997, 1998, 1999, 2000, 1997, 1998, 1999, 2000]   \n",
       "1  [2000, 2001, 2002, 2003, 2004, 2005, 2000, 200...   \n",
       "2  [1973, 1974, 1975, 1976, 1977, 1973, 1974, 197...   \n",
       "3  [1983, 1984, 1985, 1986, 1987, 1988, 1989, 198...   \n",
       "4   [2010, 2011, 2012, 2013, 2010, 2011, 2012, 2013]   \n",
       "\n",
       "                                              y_tick x_label  \\\n",
       "0     [0, 10, 20, 30, 40, 50, 0, 10, 20, 30, 40, 50]    Year   \n",
       "1     [0, 0.2, 0.4, 0.6, 0.8, 0, 0.2, 0.4, 0.6, 0.8]    Year   \n",
       "2                     [0, 1, 2, 3, 4, 0, 1, 2, 3, 4]    Year   \n",
       "3  [0, 2000, 4000, 6000, 8000, 0, 2000, 4000, 600...    Year   \n",
       "4                   [0, 0.5, 1, 1.5, 0, 0.5, 1, 1.5]    Year   \n",
       "\n",
       "                                             y_label  \n",
       "0                  Employment to population ratio(%)  \n",
       "1    PPP conversion factor (LCU per international $)  \n",
       "2  Trade with economies of Latin America & Caribb...  \n",
       "3                                 Number of teachers  \n",
       "4  Trade with economies of Middle East & North Af...  "
      ]
     },
     "execution_count": 111,
     "metadata": {},
     "output_type": "execute_result"
    }
   ],
   "source": [
    "df.head()"
   ]
  },
  {
   "cell_type": "code",
   "execution_count": null,
   "id": "95cb057b-4bbf-4f62-ab80-39684e961f79",
   "metadata": {},
   "outputs": [],
   "source": []
  }
 ],
 "metadata": {
  "kernelspec": {
   "display_name": "Python 3 (ipykernel)",
   "language": "python",
   "name": "python3"
  },
  "language_info": {
   "codemirror_mode": {
    "name": "ipython",
    "version": 3
   },
   "file_extension": ".py",
   "mimetype": "text/x-python",
   "name": "python",
   "nbconvert_exporter": "python",
   "pygments_lexer": "ipython3",
   "version": "3.11.7"
  }
 },
 "nbformat": 4,
 "nbformat_minor": 5
}
